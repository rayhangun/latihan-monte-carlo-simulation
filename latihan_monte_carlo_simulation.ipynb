{
  "nbformat": 4,
  "nbformat_minor": 0,
  "metadata": {
    "colab": {
      "name": "latihan-monte-carlo-simulation.ipynb",
      "provenance": []
    },
    "kernelspec": {
      "name": "python3",
      "display_name": "Python 3"
    },
    "language_info": {
      "name": "python"
    }
  },
  "cells": [
    {
      "cell_type": "markdown",
      "source": [
        "Problem Background:\n",
        "\n",
        "\n",
        "*   We will try to predict how much money we should budget for sales commissions of 500 sales officer for the next year.\n",
        "*   We likely have some experience with prior years’ commissions payments. This distribution looks like a normal distribution with a mean of 100% and standard deviation of 10%.\n",
        "\n",
        "Source: https://pbpython.com/monte-carlo.html \n"
      ],
      "metadata": {
        "id": "MFiloUnO7cjV"
      }
    },
    {
      "cell_type": "code",
      "execution_count": 1,
      "metadata": {
        "id": "j-h5N74S63qs"
      },
      "outputs": [],
      "source": [
        "import pandas as pd # to construct a model that replicates the Excel spreadsheet calculation\n",
        "import numpy as np # a random number generation\n",
        "import seaborn as sns # plotting the result\n",
        "\n",
        "sns.set_style('whitegrid')"
      ]
    },
    {
      "cell_type": "code",
      "source": [
        "avg = 1\n",
        "std_dev = .1\n",
        "num_sales_officer = 500\n",
        "num_simulations = 1000"
      ],
      "metadata": {
        "id": "PH49Vh5G8C8d"
      },
      "execution_count": 3,
      "outputs": []
    },
    {
      "cell_type": "code",
      "source": [
        "# Now we can use numpy to generate a list of percentages that will replicate our historical normal distribution:\n",
        "pct_to_target = np.random.normal(avg, std_dev, num_sales_officer).round(2) # round(2) --> bulatkan menjadi 2 desimal"
      ],
      "metadata": {
        "id": "jARLRrJP8L-r"
      },
      "execution_count": 4,
      "outputs": []
    },
    {
      "cell_type": "code",
      "source": [
        "pct_to_target # display"
      ],
      "metadata": {
        "id": "b6nGbmHy9NOy"
      },
      "execution_count": null,
      "outputs": []
    },
    {
      "cell_type": "markdown",
      "source": [
        "\n",
        "\n",
        "*  There is one other value that we need to simulate and that is the actual sales target.\n",
        "*  The data distribution shows us that prior sales targets are set into 1 of 6 buckets and the frequency gets lower as the amount increases. \n",
        "*   We will use a **uniform distribution** but assign lower probability rates for some of the values.\n",
        "\n",
        "\n",
        "\n"
      ],
      "metadata": {
        "id": "RC1wwBEf-SQE"
      }
    },
    {
      "cell_type": "code",
      "source": [
        "sales_target_values = [75_000, 100_000, 200_000, 300_000, 400_000, 500_000]\n",
        "sales_target_prob = [.3, .3, .2, .1, .05, .05]\n",
        "sales_target = np.random.choice(sales_target_values, num_sales_officer, p=sales_target_prob)"
      ],
      "metadata": {
        "id": "cPG3yr-R9txr"
      },
      "execution_count": 10,
      "outputs": []
    },
    {
      "cell_type": "code",
      "source": [
        "sales_target # display"
      ],
      "metadata": {
        "id": "xIcXNZmQ_CkA"
      },
      "execution_count": null,
      "outputs": []
    },
    {
      "cell_type": "markdown",
      "source": [
        "Now that we know how to create our two input distributions, let’s build up a pandas dataframe:"
      ],
      "metadata": {
        "id": "xrrTZYJq_aZF"
      }
    },
    {
      "cell_type": "code",
      "source": [
        "df = pd.DataFrame(index=range(num_sales_officer), data={'Pct_To_Target': pct_to_target,\n",
        "                                               'Sales_Target': sales_target})\n",
        "\n",
        "df['Sales'] = df['Pct_To_Target'] * df['Sales_Target']"
      ],
      "metadata": {
        "id": "zNUVZ5qV_UkH"
      },
      "execution_count": 12,
      "outputs": []
    },
    {
      "cell_type": "code",
      "source": [
        "df # display the data frame"
      ],
      "metadata": {
        "colab": {
          "base_uri": "https://localhost:8080/",
          "height": 424
        },
        "id": "OQOTc-ue_lw6",
        "outputId": "ead5ba4e-1f80-483e-8931-5df9fc4d8ea1"
      },
      "execution_count": 13,
      "outputs": [
        {
          "output_type": "execute_result",
          "data": {
            "text/plain": [
              "     Pct_To_Target  Sales_Target     Sales\n",
              "0             0.97        200000  194000.0\n",
              "1             0.88        300000  264000.0\n",
              "2             0.99        500000  495000.0\n",
              "3             1.06         75000   79500.0\n",
              "4             0.99        100000   99000.0\n",
              "..             ...           ...       ...\n",
              "495           1.06         75000   79500.0\n",
              "496           1.08        200000  216000.0\n",
              "497           1.11        200000  222000.0\n",
              "498           0.95        300000  285000.0\n",
              "499           1.00        100000  100000.0\n",
              "\n",
              "[500 rows x 3 columns]"
            ],
            "text/html": [
              "\n",
              "  <div id=\"df-bb190159-0479-4190-86fb-846281239c49\">\n",
              "    <div class=\"colab-df-container\">\n",
              "      <div>\n",
              "<style scoped>\n",
              "    .dataframe tbody tr th:only-of-type {\n",
              "        vertical-align: middle;\n",
              "    }\n",
              "\n",
              "    .dataframe tbody tr th {\n",
              "        vertical-align: top;\n",
              "    }\n",
              "\n",
              "    .dataframe thead th {\n",
              "        text-align: right;\n",
              "    }\n",
              "</style>\n",
              "<table border=\"1\" class=\"dataframe\">\n",
              "  <thead>\n",
              "    <tr style=\"text-align: right;\">\n",
              "      <th></th>\n",
              "      <th>Pct_To_Target</th>\n",
              "      <th>Sales_Target</th>\n",
              "      <th>Sales</th>\n",
              "    </tr>\n",
              "  </thead>\n",
              "  <tbody>\n",
              "    <tr>\n",
              "      <th>0</th>\n",
              "      <td>0.97</td>\n",
              "      <td>200000</td>\n",
              "      <td>194000.0</td>\n",
              "    </tr>\n",
              "    <tr>\n",
              "      <th>1</th>\n",
              "      <td>0.88</td>\n",
              "      <td>300000</td>\n",
              "      <td>264000.0</td>\n",
              "    </tr>\n",
              "    <tr>\n",
              "      <th>2</th>\n",
              "      <td>0.99</td>\n",
              "      <td>500000</td>\n",
              "      <td>495000.0</td>\n",
              "    </tr>\n",
              "    <tr>\n",
              "      <th>3</th>\n",
              "      <td>1.06</td>\n",
              "      <td>75000</td>\n",
              "      <td>79500.0</td>\n",
              "    </tr>\n",
              "    <tr>\n",
              "      <th>4</th>\n",
              "      <td>0.99</td>\n",
              "      <td>100000</td>\n",
              "      <td>99000.0</td>\n",
              "    </tr>\n",
              "    <tr>\n",
              "      <th>...</th>\n",
              "      <td>...</td>\n",
              "      <td>...</td>\n",
              "      <td>...</td>\n",
              "    </tr>\n",
              "    <tr>\n",
              "      <th>495</th>\n",
              "      <td>1.06</td>\n",
              "      <td>75000</td>\n",
              "      <td>79500.0</td>\n",
              "    </tr>\n",
              "    <tr>\n",
              "      <th>496</th>\n",
              "      <td>1.08</td>\n",
              "      <td>200000</td>\n",
              "      <td>216000.0</td>\n",
              "    </tr>\n",
              "    <tr>\n",
              "      <th>497</th>\n",
              "      <td>1.11</td>\n",
              "      <td>200000</td>\n",
              "      <td>222000.0</td>\n",
              "    </tr>\n",
              "    <tr>\n",
              "      <th>498</th>\n",
              "      <td>0.95</td>\n",
              "      <td>300000</td>\n",
              "      <td>285000.0</td>\n",
              "    </tr>\n",
              "    <tr>\n",
              "      <th>499</th>\n",
              "      <td>1.00</td>\n",
              "      <td>100000</td>\n",
              "      <td>100000.0</td>\n",
              "    </tr>\n",
              "  </tbody>\n",
              "</table>\n",
              "<p>500 rows × 3 columns</p>\n",
              "</div>\n",
              "      <button class=\"colab-df-convert\" onclick=\"convertToInteractive('df-bb190159-0479-4190-86fb-846281239c49')\"\n",
              "              title=\"Convert this dataframe to an interactive table.\"\n",
              "              style=\"display:none;\">\n",
              "        \n",
              "  <svg xmlns=\"http://www.w3.org/2000/svg\" height=\"24px\"viewBox=\"0 0 24 24\"\n",
              "       width=\"24px\">\n",
              "    <path d=\"M0 0h24v24H0V0z\" fill=\"none\"/>\n",
              "    <path d=\"M18.56 5.44l.94 2.06.94-2.06 2.06-.94-2.06-.94-.94-2.06-.94 2.06-2.06.94zm-11 1L8.5 8.5l.94-2.06 2.06-.94-2.06-.94L8.5 2.5l-.94 2.06-2.06.94zm10 10l.94 2.06.94-2.06 2.06-.94-2.06-.94-.94-2.06-.94 2.06-2.06.94z\"/><path d=\"M17.41 7.96l-1.37-1.37c-.4-.4-.92-.59-1.43-.59-.52 0-1.04.2-1.43.59L10.3 9.45l-7.72 7.72c-.78.78-.78 2.05 0 2.83L4 21.41c.39.39.9.59 1.41.59.51 0 1.02-.2 1.41-.59l7.78-7.78 2.81-2.81c.8-.78.8-2.07 0-2.86zM5.41 20L4 18.59l7.72-7.72 1.47 1.35L5.41 20z\"/>\n",
              "  </svg>\n",
              "      </button>\n",
              "      \n",
              "  <style>\n",
              "    .colab-df-container {\n",
              "      display:flex;\n",
              "      flex-wrap:wrap;\n",
              "      gap: 12px;\n",
              "    }\n",
              "\n",
              "    .colab-df-convert {\n",
              "      background-color: #E8F0FE;\n",
              "      border: none;\n",
              "      border-radius: 50%;\n",
              "      cursor: pointer;\n",
              "      display: none;\n",
              "      fill: #1967D2;\n",
              "      height: 32px;\n",
              "      padding: 0 0 0 0;\n",
              "      width: 32px;\n",
              "    }\n",
              "\n",
              "    .colab-df-convert:hover {\n",
              "      background-color: #E2EBFA;\n",
              "      box-shadow: 0px 1px 2px rgba(60, 64, 67, 0.3), 0px 1px 3px 1px rgba(60, 64, 67, 0.15);\n",
              "      fill: #174EA6;\n",
              "    }\n",
              "\n",
              "    [theme=dark] .colab-df-convert {\n",
              "      background-color: #3B4455;\n",
              "      fill: #D2E3FC;\n",
              "    }\n",
              "\n",
              "    [theme=dark] .colab-df-convert:hover {\n",
              "      background-color: #434B5C;\n",
              "      box-shadow: 0px 1px 3px 1px rgba(0, 0, 0, 0.15);\n",
              "      filter: drop-shadow(0px 1px 2px rgba(0, 0, 0, 0.3));\n",
              "      fill: #FFFFFF;\n",
              "    }\n",
              "  </style>\n",
              "\n",
              "      <script>\n",
              "        const buttonEl =\n",
              "          document.querySelector('#df-bb190159-0479-4190-86fb-846281239c49 button.colab-df-convert');\n",
              "        buttonEl.style.display =\n",
              "          google.colab.kernel.accessAllowed ? 'block' : 'none';\n",
              "\n",
              "        async function convertToInteractive(key) {\n",
              "          const element = document.querySelector('#df-bb190159-0479-4190-86fb-846281239c49');\n",
              "          const dataTable =\n",
              "            await google.colab.kernel.invokeFunction('convertToInteractive',\n",
              "                                                     [key], {});\n",
              "          if (!dataTable) return;\n",
              "\n",
              "          const docLinkHtml = 'Like what you see? Visit the ' +\n",
              "            '<a target=\"_blank\" href=https://colab.research.google.com/notebooks/data_table.ipynb>data table notebook</a>'\n",
              "            + ' to learn more about interactive tables.';\n",
              "          element.innerHTML = '';\n",
              "          dataTable['output_type'] = 'display_data';\n",
              "          await google.colab.output.renderOutput(dataTable, element);\n",
              "          const docLink = document.createElement('div');\n",
              "          docLink.innerHTML = docLinkHtml;\n",
              "          element.appendChild(docLink);\n",
              "        }\n",
              "      </script>\n",
              "    </div>\n",
              "  </div>\n",
              "  "
            ]
          },
          "metadata": {},
          "execution_count": 13
        }
      ]
    },
    {
      "cell_type": "markdown",
      "source": [
        "The final piece of code we need to create is a way to map our Pct_To_Target to the commission rate. Here is the function:"
      ],
      "metadata": {
        "id": "Ojg3rqSaAPM5"
      }
    },
    {
      "cell_type": "code",
      "source": [
        "def calc_commission_rate(x):\n",
        "    \"\"\" Return the commission rate based on the table:\n",
        "    0-90% = 2%\n",
        "    91-99% = 3%\n",
        "    >= 100 = 4%\n",
        "    \"\"\"\n",
        "    if x <= .90:\n",
        "        return .02\n",
        "    if x <= .99:\n",
        "        return .03\n",
        "    else:\n",
        "        return .04"
      ],
      "metadata": {
        "id": "sNbhL7UjABVo"
      },
      "execution_count": 14,
      "outputs": []
    },
    {
      "cell_type": "markdown",
      "source": [
        "Now we create our commission rate and multiply it by sales:"
      ],
      "metadata": {
        "id": "gnl_ezBfApjE"
      }
    },
    {
      "cell_type": "code",
      "source": [
        "df['Commission_Rate'] = df['Pct_To_Target'].apply(calc_commission_rate)\n",
        "df['Commission_Amount'] = df['Commission_Rate'] * df['Sales']"
      ],
      "metadata": {
        "id": "gGaVdjmcAfQs"
      },
      "execution_count": 15,
      "outputs": []
    },
    {
      "cell_type": "code",
      "source": [
        "df # display"
      ],
      "metadata": {
        "colab": {
          "base_uri": "https://localhost:8080/",
          "height": 424
        },
        "id": "pSFhAYNtA3Y7",
        "outputId": "902d8f60-4e4c-469e-8059-8ae20cf38f6b"
      },
      "execution_count": 16,
      "outputs": [
        {
          "output_type": "execute_result",
          "data": {
            "text/plain": [
              "     Pct_To_Target  Sales_Target     Sales  Commission_Rate  Commission_Amount\n",
              "0             0.97        200000  194000.0             0.03             5820.0\n",
              "1             0.88        300000  264000.0             0.02             5280.0\n",
              "2             0.99        500000  495000.0             0.03            14850.0\n",
              "3             1.06         75000   79500.0             0.04             3180.0\n",
              "4             0.99        100000   99000.0             0.03             2970.0\n",
              "..             ...           ...       ...              ...                ...\n",
              "495           1.06         75000   79500.0             0.04             3180.0\n",
              "496           1.08        200000  216000.0             0.04             8640.0\n",
              "497           1.11        200000  222000.0             0.04             8880.0\n",
              "498           0.95        300000  285000.0             0.03             8550.0\n",
              "499           1.00        100000  100000.0             0.04             4000.0\n",
              "\n",
              "[500 rows x 5 columns]"
            ],
            "text/html": [
              "\n",
              "  <div id=\"df-cd3d8762-fef2-4c0a-82ae-d75260ee1149\">\n",
              "    <div class=\"colab-df-container\">\n",
              "      <div>\n",
              "<style scoped>\n",
              "    .dataframe tbody tr th:only-of-type {\n",
              "        vertical-align: middle;\n",
              "    }\n",
              "\n",
              "    .dataframe tbody tr th {\n",
              "        vertical-align: top;\n",
              "    }\n",
              "\n",
              "    .dataframe thead th {\n",
              "        text-align: right;\n",
              "    }\n",
              "</style>\n",
              "<table border=\"1\" class=\"dataframe\">\n",
              "  <thead>\n",
              "    <tr style=\"text-align: right;\">\n",
              "      <th></th>\n",
              "      <th>Pct_To_Target</th>\n",
              "      <th>Sales_Target</th>\n",
              "      <th>Sales</th>\n",
              "      <th>Commission_Rate</th>\n",
              "      <th>Commission_Amount</th>\n",
              "    </tr>\n",
              "  </thead>\n",
              "  <tbody>\n",
              "    <tr>\n",
              "      <th>0</th>\n",
              "      <td>0.97</td>\n",
              "      <td>200000</td>\n",
              "      <td>194000.0</td>\n",
              "      <td>0.03</td>\n",
              "      <td>5820.0</td>\n",
              "    </tr>\n",
              "    <tr>\n",
              "      <th>1</th>\n",
              "      <td>0.88</td>\n",
              "      <td>300000</td>\n",
              "      <td>264000.0</td>\n",
              "      <td>0.02</td>\n",
              "      <td>5280.0</td>\n",
              "    </tr>\n",
              "    <tr>\n",
              "      <th>2</th>\n",
              "      <td>0.99</td>\n",
              "      <td>500000</td>\n",
              "      <td>495000.0</td>\n",
              "      <td>0.03</td>\n",
              "      <td>14850.0</td>\n",
              "    </tr>\n",
              "    <tr>\n",
              "      <th>3</th>\n",
              "      <td>1.06</td>\n",
              "      <td>75000</td>\n",
              "      <td>79500.0</td>\n",
              "      <td>0.04</td>\n",
              "      <td>3180.0</td>\n",
              "    </tr>\n",
              "    <tr>\n",
              "      <th>4</th>\n",
              "      <td>0.99</td>\n",
              "      <td>100000</td>\n",
              "      <td>99000.0</td>\n",
              "      <td>0.03</td>\n",
              "      <td>2970.0</td>\n",
              "    </tr>\n",
              "    <tr>\n",
              "      <th>...</th>\n",
              "      <td>...</td>\n",
              "      <td>...</td>\n",
              "      <td>...</td>\n",
              "      <td>...</td>\n",
              "      <td>...</td>\n",
              "    </tr>\n",
              "    <tr>\n",
              "      <th>495</th>\n",
              "      <td>1.06</td>\n",
              "      <td>75000</td>\n",
              "      <td>79500.0</td>\n",
              "      <td>0.04</td>\n",
              "      <td>3180.0</td>\n",
              "    </tr>\n",
              "    <tr>\n",
              "      <th>496</th>\n",
              "      <td>1.08</td>\n",
              "      <td>200000</td>\n",
              "      <td>216000.0</td>\n",
              "      <td>0.04</td>\n",
              "      <td>8640.0</td>\n",
              "    </tr>\n",
              "    <tr>\n",
              "      <th>497</th>\n",
              "      <td>1.11</td>\n",
              "      <td>200000</td>\n",
              "      <td>222000.0</td>\n",
              "      <td>0.04</td>\n",
              "      <td>8880.0</td>\n",
              "    </tr>\n",
              "    <tr>\n",
              "      <th>498</th>\n",
              "      <td>0.95</td>\n",
              "      <td>300000</td>\n",
              "      <td>285000.0</td>\n",
              "      <td>0.03</td>\n",
              "      <td>8550.0</td>\n",
              "    </tr>\n",
              "    <tr>\n",
              "      <th>499</th>\n",
              "      <td>1.00</td>\n",
              "      <td>100000</td>\n",
              "      <td>100000.0</td>\n",
              "      <td>0.04</td>\n",
              "      <td>4000.0</td>\n",
              "    </tr>\n",
              "  </tbody>\n",
              "</table>\n",
              "<p>500 rows × 5 columns</p>\n",
              "</div>\n",
              "      <button class=\"colab-df-convert\" onclick=\"convertToInteractive('df-cd3d8762-fef2-4c0a-82ae-d75260ee1149')\"\n",
              "              title=\"Convert this dataframe to an interactive table.\"\n",
              "              style=\"display:none;\">\n",
              "        \n",
              "  <svg xmlns=\"http://www.w3.org/2000/svg\" height=\"24px\"viewBox=\"0 0 24 24\"\n",
              "       width=\"24px\">\n",
              "    <path d=\"M0 0h24v24H0V0z\" fill=\"none\"/>\n",
              "    <path d=\"M18.56 5.44l.94 2.06.94-2.06 2.06-.94-2.06-.94-.94-2.06-.94 2.06-2.06.94zm-11 1L8.5 8.5l.94-2.06 2.06-.94-2.06-.94L8.5 2.5l-.94 2.06-2.06.94zm10 10l.94 2.06.94-2.06 2.06-.94-2.06-.94-.94-2.06-.94 2.06-2.06.94z\"/><path d=\"M17.41 7.96l-1.37-1.37c-.4-.4-.92-.59-1.43-.59-.52 0-1.04.2-1.43.59L10.3 9.45l-7.72 7.72c-.78.78-.78 2.05 0 2.83L4 21.41c.39.39.9.59 1.41.59.51 0 1.02-.2 1.41-.59l7.78-7.78 2.81-2.81c.8-.78.8-2.07 0-2.86zM5.41 20L4 18.59l7.72-7.72 1.47 1.35L5.41 20z\"/>\n",
              "  </svg>\n",
              "      </button>\n",
              "      \n",
              "  <style>\n",
              "    .colab-df-container {\n",
              "      display:flex;\n",
              "      flex-wrap:wrap;\n",
              "      gap: 12px;\n",
              "    }\n",
              "\n",
              "    .colab-df-convert {\n",
              "      background-color: #E8F0FE;\n",
              "      border: none;\n",
              "      border-radius: 50%;\n",
              "      cursor: pointer;\n",
              "      display: none;\n",
              "      fill: #1967D2;\n",
              "      height: 32px;\n",
              "      padding: 0 0 0 0;\n",
              "      width: 32px;\n",
              "    }\n",
              "\n",
              "    .colab-df-convert:hover {\n",
              "      background-color: #E2EBFA;\n",
              "      box-shadow: 0px 1px 2px rgba(60, 64, 67, 0.3), 0px 1px 3px 1px rgba(60, 64, 67, 0.15);\n",
              "      fill: #174EA6;\n",
              "    }\n",
              "\n",
              "    [theme=dark] .colab-df-convert {\n",
              "      background-color: #3B4455;\n",
              "      fill: #D2E3FC;\n",
              "    }\n",
              "\n",
              "    [theme=dark] .colab-df-convert:hover {\n",
              "      background-color: #434B5C;\n",
              "      box-shadow: 0px 1px 3px 1px rgba(0, 0, 0, 0.15);\n",
              "      filter: drop-shadow(0px 1px 2px rgba(0, 0, 0, 0.3));\n",
              "      fill: #FFFFFF;\n",
              "    }\n",
              "  </style>\n",
              "\n",
              "      <script>\n",
              "        const buttonEl =\n",
              "          document.querySelector('#df-cd3d8762-fef2-4c0a-82ae-d75260ee1149 button.colab-df-convert');\n",
              "        buttonEl.style.display =\n",
              "          google.colab.kernel.accessAllowed ? 'block' : 'none';\n",
              "\n",
              "        async function convertToInteractive(key) {\n",
              "          const element = document.querySelector('#df-cd3d8762-fef2-4c0a-82ae-d75260ee1149');\n",
              "          const dataTable =\n",
              "            await google.colab.kernel.invokeFunction('convertToInteractive',\n",
              "                                                     [key], {});\n",
              "          if (!dataTable) return;\n",
              "\n",
              "          const docLinkHtml = 'Like what you see? Visit the ' +\n",
              "            '<a target=\"_blank\" href=https://colab.research.google.com/notebooks/data_table.ipynb>data table notebook</a>'\n",
              "            + ' to learn more about interactive tables.';\n",
              "          element.innerHTML = '';\n",
              "          dataTable['output_type'] = 'display_data';\n",
              "          await google.colab.output.renderOutput(dataTable, element);\n",
              "          const docLink = document.createElement('div');\n",
              "          docLink.innerHTML = docLinkHtml;\n",
              "          element.appendChild(docLink);\n",
              "        }\n",
              "      </script>\n",
              "    </div>\n",
              "  </div>\n",
              "  "
            ]
          },
          "metadata": {},
          "execution_count": 16
        }
      ]
    },
    {
      "cell_type": "markdown",
      "source": [
        "The real “magic” of the Monte Carlo simulation is that if we run a simulation many times, we start to develop a picture of the likely distribution of results."
      ],
      "metadata": {
        "id": "a7v6bKt6BSe-"
      }
    },
    {
      "cell_type": "markdown",
      "source": [
        "In python, we can use a **for loop** to run as many simulations as we’d like."
      ],
      "metadata": {
        "id": "azjd5dauBacV"
      }
    },
    {
      "cell_type": "code",
      "source": [
        "# Define a list to keep all the results from each simulation that we want to analyze\n",
        "all_stats = []\n",
        "\n",
        "# Loop through many simulations\n",
        "for i in range(num_simulations):\n",
        "\n",
        "    # Choose random inputs for the sales targets and percent to target\n",
        "    sales_target = np.random.choice(sales_target_values, num_sales_officer, p=sales_target_prob)\n",
        "    pct_to_target = np.random.normal(avg, std_dev, num_sales_officer).round(2)\n",
        "\n",
        "    # Build the dataframe based on the inputs and number of reps\n",
        "    df = pd.DataFrame(index=range(num_sales_officer), data={'Pct_To_Target': pct_to_target,\n",
        "                                                   'Sales_Target': sales_target})\n",
        "\n",
        "    # Back into the sales number using the percent to target rate\n",
        "    df['Sales'] = df['Pct_To_Target'] * df['Sales_Target']\n",
        "\n",
        "    # Determine the commissions rate and calculate it\n",
        "    df['Commission_Rate'] = df['Pct_To_Target'].apply(calc_commission_rate)\n",
        "    df['Commission_Amount'] = df['Commission_Rate'] * df['Sales']\n",
        "\n",
        "    # We want to track sales,commission amounts and sales targets over all the simulations\n",
        "    all_stats.append([df['Sales'].sum().round(0),\n",
        "                      df['Commission_Amount'].sum().round(0),\n",
        "                      df['Sales_Target'].sum().round(0)])"
      ],
      "metadata": {
        "id": "VgN9G4JLBZXo"
      },
      "execution_count": 17,
      "outputs": []
    },
    {
      "cell_type": "code",
      "source": [
        "all_stats # display"
      ],
      "metadata": {
        "id": "Aej0eTX2C02J"
      },
      "execution_count": null,
      "outputs": []
    },
    {
      "cell_type": "code",
      "source": [
        "results_df = pd.DataFrame.from_records(all_stats, columns=['Sales',\n",
        "                                                           'Commission_Amount',\n",
        "                                                           'Sales_Target'])"
      ],
      "metadata": {
        "id": "Rc1ncn_dC7Wo"
      },
      "execution_count": 19,
      "outputs": []
    },
    {
      "cell_type": "code",
      "source": [
        "results_df.describe().style.format('{:,}')"
      ],
      "metadata": {
        "colab": {
          "base_uri": "https://localhost:8080/",
          "height": 300
        },
        "id": "bXSbxS4-C_Hr",
        "outputId": "d2f04290-a235-4559-da2d-e7103d3a5290"
      },
      "execution_count": 20,
      "outputs": [
        {
          "output_type": "execute_result",
          "data": {
            "text/plain": [
              "<pandas.io.formats.style.Styler at 0x7f06e589d550>"
            ],
            "text/html": [
              "<style type=\"text/css\">\n",
              "</style>\n",
              "<table id=\"T_2709a_\" class=\"dataframe\">\n",
              "  <thead>\n",
              "    <tr>\n",
              "      <th class=\"blank level0\" >&nbsp;</th>\n",
              "      <th class=\"col_heading level0 col0\" >Sales</th>\n",
              "      <th class=\"col_heading level0 col1\" >Commission_Amount</th>\n",
              "      <th class=\"col_heading level0 col2\" >Sales_Target</th>\n",
              "    </tr>\n",
              "  </thead>\n",
              "  <tbody>\n",
              "    <tr>\n",
              "      <th id=\"T_2709a_level0_row0\" class=\"row_heading level0 row0\" >count</th>\n",
              "      <td id=\"T_2709a_row0_col0\" class=\"data row0 col0\" >1,000.0</td>\n",
              "      <td id=\"T_2709a_row0_col1\" class=\"data row0 col1\" >1,000.0</td>\n",
              "      <td id=\"T_2709a_row0_col2\" class=\"data row0 col2\" >1,000.0</td>\n",
              "    </tr>\n",
              "    <tr>\n",
              "      <th id=\"T_2709a_level0_row1\" class=\"row_heading level0 row1\" >mean</th>\n",
              "      <td id=\"T_2709a_row1_col0\" class=\"data row1 col0\" >83,892,656.0</td>\n",
              "      <td id=\"T_2709a_row1_col1\" class=\"data row1 col1\" >2,864,360.126</td>\n",
              "      <td id=\"T_2709a_row1_col2\" class=\"data row1 col2\" >83,888,950.0</td>\n",
              "    </tr>\n",
              "    <tr>\n",
              "      <th id=\"T_2709a_level0_row2\" class=\"row_heading level0 row2\" >std</th>\n",
              "      <td id=\"T_2709a_row2_col0\" class=\"data row2 col0\" >2,740,024.990257614</td>\n",
              "      <td id=\"T_2709a_row2_col1\" class=\"data row2 col1\" >101,583.66331529239</td>\n",
              "      <td id=\"T_2709a_row2_col2\" class=\"data row2 col2\" >2,731,367.929860104</td>\n",
              "    </tr>\n",
              "    <tr>\n",
              "      <th id=\"T_2709a_level0_row3\" class=\"row_heading level0 row3\" >min</th>\n",
              "      <td id=\"T_2709a_row3_col0\" class=\"data row3 col0\" >74,748,000.0</td>\n",
              "      <td id=\"T_2709a_row3_col1\" class=\"data row3 col1\" >2,541,340.0</td>\n",
              "      <td id=\"T_2709a_row3_col2\" class=\"data row3 col2\" >74,550,000.0</td>\n",
              "    </tr>\n",
              "    <tr>\n",
              "      <th id=\"T_2709a_level0_row4\" class=\"row_heading level0 row4\" >25%</th>\n",
              "      <td id=\"T_2709a_row4_col0\" class=\"data row4 col0\" >81,859,937.5</td>\n",
              "      <td id=\"T_2709a_row4_col1\" class=\"data row4 col1\" >2,791,594.25</td>\n",
              "      <td id=\"T_2709a_row4_col2\" class=\"data row4 col2\" >81,918,750.0</td>\n",
              "    </tr>\n",
              "    <tr>\n",
              "      <th id=\"T_2709a_level0_row5\" class=\"row_heading level0 row5\" >50%</th>\n",
              "      <td id=\"T_2709a_row5_col0\" class=\"data row5 col0\" >83,774,000.0</td>\n",
              "      <td id=\"T_2709a_row5_col1\" class=\"data row5 col1\" >2,859,184.0</td>\n",
              "      <td id=\"T_2709a_row5_col2\" class=\"data row5 col2\" >83,787,500.0</td>\n",
              "    </tr>\n",
              "    <tr>\n",
              "      <th id=\"T_2709a_level0_row6\" class=\"row_heading level0 row6\" >75%</th>\n",
              "      <td id=\"T_2709a_row6_col0\" class=\"data row6 col0\" >85,717,062.5</td>\n",
              "      <td id=\"T_2709a_row6_col1\" class=\"data row6 col1\" >2,937,517.25</td>\n",
              "      <td id=\"T_2709a_row6_col2\" class=\"data row6 col2\" >85,731,250.0</td>\n",
              "    </tr>\n",
              "    <tr>\n",
              "      <th id=\"T_2709a_level0_row7\" class=\"row_heading level0 row7\" >max</th>\n",
              "      <td id=\"T_2709a_row7_col0\" class=\"data row7 col0\" >93,517,750.0</td>\n",
              "      <td id=\"T_2709a_row7_col1\" class=\"data row7 col1\" >3,182,385.0</td>\n",
              "      <td id=\"T_2709a_row7_col2\" class=\"data row7 col2\" >93,475,000.0</td>\n",
              "    </tr>\n",
              "  </tbody>\n",
              "</table>\n"
            ]
          },
          "metadata": {},
          "execution_count": 20
        }
      ]
    },
    {
      "cell_type": "markdown",
      "source": [
        "We can see that the average commissions amount expense is 2.86M and the standard deviation is 102K. We can also see that the commissions payment can be as low as 2.5M or as high as 3.2M."
      ],
      "metadata": {
        "id": "-zzVqlVCGD3l"
      }
    },
    {
      "cell_type": "markdown",
      "source": [
        "Based on these results, we can estimate that the sales comission budget for the next year is around USD 2.86M"
      ],
      "metadata": {
        "id": "zdMQsqQIG3I5"
      }
    },
    {
      "cell_type": "code",
      "source": [
        "results_df['Commission_Amount'].plot(kind='hist', title=\"Total Commission Amount\") # result plotting"
      ],
      "metadata": {
        "colab": {
          "base_uri": "https://localhost:8080/",
          "height": 311
        },
        "id": "IL5uHH4UDla2",
        "outputId": "17a4a7da-8095-402c-fa69-530d99aafbb4"
      },
      "execution_count": 30,
      "outputs": [
        {
          "output_type": "execute_result",
          "data": {
            "text/plain": [
              "<matplotlib.axes._subplots.AxesSubplot at 0x7f06e03aae90>"
            ]
          },
          "metadata": {},
          "execution_count": 30
        },
        {
          "output_type": "display_data",
          "data": {
            "text/plain": [
              "<Figure size 432x288 with 1 Axes>"
            ],
            "image/png": "[encoded data removed]"
          },
          "metadata": {
            "needs_background": "light"
          }
        }
      ]
    }
  ]
}